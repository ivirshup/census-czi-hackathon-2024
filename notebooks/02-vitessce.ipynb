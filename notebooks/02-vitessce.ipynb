{
 "cells": [
  {
   "cell_type": "code",
   "execution_count": 1,
   "metadata": {},
   "outputs": [],
   "source": [
    "import anndata as ad\n",
    "import zarr\n",
    "import s3fs"
   ]
  },
  {
   "cell_type": "code",
   "execution_count": 2,
   "metadata": {},
   "outputs": [],
   "source": [
    "s3 = s3fs.S3FileSystem(anon=True)"
   ]
  },
  {
   "cell_type": "code",
   "execution_count": 3,
   "metadata": {},
   "outputs": [
    {
     "data": {
      "text/plain": [
       "['tmp-census-zarr/v1/homo_sapiens/0041b9c3-6a49-4bf7-8514-9bc7190067a7.zarr',\n",
       " 'tmp-census-zarr/v1/homo_sapiens/00476f9f-ebc1-4b72-b541-32f912ce36ea.zarr',\n",
       " 'tmp-census-zarr/v1/homo_sapiens/00e5dedd-b9b7-43be-8c28-b0e5c6414a62.zarr',\n",
       " 'tmp-census-zarr/v1/homo_sapiens/00ff600e-6e2e-4d76-846f-0eec4f0ae417.zarr',\n",
       " 'tmp-census-zarr/v1/homo_sapiens/01209dce-3575-4bed-b1df-129f57fbc031.zarr',\n",
       " 'tmp-census-zarr/v1/homo_sapiens/0129dbd9-a7d3-4f6b-96b9-1da155a93748.zarr',\n",
       " 'tmp-census-zarr/v1/homo_sapiens/015c230d-650c-4527-870d-8a805849a382.zarr',\n",
       " 'tmp-census-zarr/v1/homo_sapiens/019c7af2-c827-4454-9970-44d5e39ce068.zarr',\n",
       " 'tmp-census-zarr/v1/homo_sapiens/01ad3cd7-3929-4654-84c0-6db05bd5fd59.zarr',\n",
       " 'tmp-census-zarr/v1/homo_sapiens/01c93cf6-b695-4e30-a26e-121ae8b16a9e.zarr',\n",
       " 'tmp-census-zarr/v1/homo_sapiens/02792605-4760-4023-82ad-40fc4458a5db.zarr',\n",
       " 'tmp-census-zarr/v1/homo_sapiens/03181d87-4769-41e7-8c39-d9a81835f0d2.zarr',\n",
       " 'tmp-census-zarr/v1/homo_sapiens/0374f03c-62e2-4859-8a14-acb00b0627d5.zarr',\n",
       " 'tmp-census-zarr/v1/homo_sapiens/03c544fb-a103-4d18-9230-eae9cfee3af2.zarr',\n",
       " 'tmp-census-zarr/v1/homo_sapiens/03d38670-1444-4001-bc53-9936e61d9b20.zarr',\n",
       " 'tmp-census-zarr/v1/homo_sapiens/03d5794d-cde9-4769-a1a9-b3899d2b1d87.zarr',\n",
       " 'tmp-census-zarr/v1/homo_sapiens/04a23820-ffa8-4be5-9f65-64db15631d1e.zarr',\n",
       " 'tmp-census-zarr/v1/homo_sapiens/04b0eb97-d816-44bb-93a5-8b2968791aa0.zarr',\n",
       " 'tmp-census-zarr/v1/homo_sapiens/04c0bdd8-840f-488e-b72d-2a1229bc65db.zarr',\n",
       " 'tmp-census-zarr/v1/homo_sapiens/04c94a7d-1133-42c9-bb48-c697bd302a8d.zarr',\n",
       " 'tmp-census-zarr/v1/homo_sapiens/04d87de6-c20a-4186-8884-f47dba20b0a4.zarr',\n",
       " 'tmp-census-zarr/v1/homo_sapiens/055ca631-6ffb-40de-815e-b931e10718c0.zarr',\n",
       " 'tmp-census-zarr/v1/homo_sapiens/066943a2-fdac-4b29-b348-40cede398e4e.zarr',\n",
       " 'tmp-census-zarr/v1/homo_sapiens/06b91002-4d3d-4d2e-8484-20c3b31e232c.zarr',\n",
       " 'tmp-census-zarr/v1/homo_sapiens/06ef6b36-6c9b-4e10-8a94-d0baf274276e.zarr',\n",
       " 'tmp-census-zarr/v1/homo_sapiens/07428d73-fdea-4bd4-a801-94b00c4d961c.zarr',\n",
       " 'tmp-census-zarr/v1/homo_sapiens/07760522-707a-4a1c-8891-dbd1226d6b27.zarr',\n",
       " 'tmp-census-zarr/v1/homo_sapiens/07854d9c-5375-4a9b-ac34-fa919d3c3686.zarr',\n",
       " 'tmp-census-zarr/v1/homo_sapiens/07b1d7c8-5c2e-42f7-9246-26f746cd6013.zarr',\n",
       " 'tmp-census-zarr/v1/homo_sapiens/08073b32-d389-41f4-a4fd-616de76915ab.zarr',\n",
       " 'tmp-census-zarr/v1/homo_sapiens/0895c838-e550-48a3-a777-dbcd35d30272.zarr',\n",
       " 'tmp-census-zarr/v1/homo_sapiens/090da8ea-46e8-40df-bffc-1f78e1538d27.zarr',\n",
       " 'tmp-census-zarr/v1/homo_sapiens/093d3bfe-6f0f-4ac0-a7a1-829f94d0a49f.zarr',\n",
       " 'tmp-census-zarr/v1/homo_sapiens/095940cb-7422-4510-96e2-cbafd961eb88.zarr',\n",
       " 'tmp-census-zarr/v1/homo_sapiens/0a21f80c-e7a3-465b-8aba-fdda2b4c36bc.zarr',\n",
       " 'tmp-census-zarr/v1/homo_sapiens/0b4a15a7-4e9e-4555-9733-2423e5c66469.zarr',\n",
       " 'tmp-census-zarr/v1/homo_sapiens/0b75c598-0893-4216-afe8-5414cab7739d.zarr',\n",
       " 'tmp-census-zarr/v1/homo_sapiens/0ba16f4b-cb87-4fa3-9363-19fc51eec6e7.zarr',\n",
       " 'tmp-census-zarr/v1/homo_sapiens/0bc7235a-ae5a-479d-a487-510435377e55.zarr',\n",
       " 'tmp-census-zarr/v1/homo_sapiens/0c86f0de-ddcb-454c-b00b-37feb69e7da1.zarr',\n",
       " 'tmp-census-zarr/v1/homo_sapiens/0c9a8cfb-6649-4d52-b418-6d8e56bd7afe.zarr',\n",
       " 'tmp-census-zarr/v1/homo_sapiens/0ced5e76-6040-47ff-8a72-93847965afc0.zarr',\n",
       " 'tmp-census-zarr/v1/homo_sapiens/0d2ee4ac-05ee-40b2-afb6-ebb584caa867.zarr',\n",
       " 'tmp-census-zarr/v1/homo_sapiens/0d7f4c06-a6bd-47d2-a42b-3a7196704f77.zarr',\n",
       " 'tmp-census-zarr/v1/homo_sapiens/0e9d47fb-89b1-42d8-b426-2c7630b5f5fa.zarr',\n",
       " 'tmp-census-zarr/v1/homo_sapiens/0eccaf0c-19d2-4900-9962-899378adf8be.zarr',\n",
       " 'tmp-census-zarr/v1/homo_sapiens/0ed60482-a34f-4268-b576-d69cc30210f6.zarr',\n",
       " 'tmp-census-zarr/v1/homo_sapiens/0ee5ae70-c3f5-473f-bd1c-287f4690ffc5.zarr',\n",
       " 'tmp-census-zarr/v1/homo_sapiens/0f4865d5-8000-4f68-8ac7-f5efea9e5e70.zarr',\n",
       " 'tmp-census-zarr/v1/homo_sapiens/0fdb6122-4600-40f0-a703-2da47cc7080d.zarr',\n",
       " 'tmp-census-zarr/v1/homo_sapiens/1009f384-b12d-448e-ba9f-1b7d2ecfbb4e.zarr',\n",
       " 'tmp-census-zarr/v1/homo_sapiens/100c6145-7b0e-4ba6-81c1-ffebed0d1ac4.zarr',\n",
       " 'tmp-census-zarr/v1/homo_sapiens/105c7dad-0468-4628-a5be-2bb42c6a8ae4.zarr',\n",
       " 'tmp-census-zarr/v1/homo_sapiens/1062c0f2-2a44-4cf9-a7c8-b5ed58b4728d.zarr',\n",
       " 'tmp-census-zarr/v1/homo_sapiens/1185a7d3-a9c1-4280-9ba5-d61895b15cac.zarr',\n",
       " 'tmp-census-zarr/v1/homo_sapiens/1196334f-a441-474a-95ee-400780941690.zarr',\n",
       " 'tmp-census-zarr/v1/homo_sapiens/11a3244a-6b2f-43ca-95a5-d2cd95c482d2.zarr',\n",
       " 'tmp-census-zarr/v1/homo_sapiens/11ef37ee-2173-458e-aab8-7fe35da8e47b.zarr',\n",
       " 'tmp-census-zarr/v1/homo_sapiens/11ff73e8-d3e4-4445-9309-477a2c5be6f6.zarr',\n",
       " 'tmp-census-zarr/v1/homo_sapiens/12194ced-8086-458e-84a8-e2ab935d8db1.zarr',\n",
       " 'tmp-census-zarr/v1/homo_sapiens/124744b8-4681-474a-9894-683896122708.zarr',\n",
       " 'tmp-census-zarr/v1/homo_sapiens/1252c5fb-945f-42d6-b1a8-8a3bd864384b.zarr',\n",
       " 'tmp-census-zarr/v1/homo_sapiens/13b61a7d-5605-4948-ba48-02c588960143.zarr',\n",
       " 'tmp-census-zarr/v1/homo_sapiens/14363b6e-3428-45b0-8704-10fd5d6316df.zarr',\n",
       " 'tmp-census-zarr/v1/homo_sapiens/146216e1-ec30-4fee-a1fb-25defe801e2d.zarr',\n",
       " 'tmp-census-zarr/v1/homo_sapiens/1492eb6b-7d50-4c4d-94ac-c801a7d5555c.zarr',\n",
       " 'tmp-census-zarr/v1/homo_sapiens/182f6a56-7360-4924-a74e-1772e07b3031.zarr',\n",
       " 'tmp-census-zarr/v1/homo_sapiens/18500fcd-9960-49cb-8a8e-7d868dc14efe.zarr',\n",
       " 'tmp-census-zarr/v1/homo_sapiens/1873a18a-66fd-4a4d-8277-a872c93f5b59.zarr',\n",
       " 'tmp-census-zarr/v1/homo_sapiens/18e2a8c5-33f7-455e-a58a-b2ba6921db27.zarr',\n",
       " 'tmp-census-zarr/v1/homo_sapiens/18eb630b-a754-4111-8cd4-c24ec80aa5ec.zarr',\n",
       " 'tmp-census-zarr/v1/homo_sapiens/19b21f40-db42-4a71-a0d6-913e83b17784.zarr',\n",
       " 'tmp-census-zarr/v1/homo_sapiens/19e46756-9100-4e01-8b0e-23b557558a4c.zarr',\n",
       " 'tmp-census-zarr/v1/homo_sapiens/1a018108-b4b6-457b-ba15-046d5e98c169.zarr',\n",
       " 'tmp-census-zarr/v1/homo_sapiens/1a2e3350-28a8-4f49-b33c-5b67ceb001f6.zarr',\n",
       " 'tmp-census-zarr/v1/homo_sapiens/1a38e762-2465-418f-b81c-6a4bce261c34.zarr',\n",
       " 'tmp-census-zarr/v1/homo_sapiens/1a434263-2aa5-4fd9-a1f3-1c4a2a8fb771.zarr',\n",
       " 'tmp-census-zarr/v1/homo_sapiens/1a7e99fe-d5b6-44d7-aa50-c6ef6ab29761.zarr',\n",
       " 'tmp-census-zarr/v1/homo_sapiens/1b767f95-d0a0-4a3d-b394-cc665d86c3dc.zarr',\n",
       " 'tmp-census-zarr/v1/homo_sapiens/1b9d8702-5af8-4142-85ed-020eb06ec4f6.zarr',\n",
       " 'tmp-census-zarr/v1/homo_sapiens/1c05b7ae-4dfb-4c1b-a441-4b23c04b169e.zarr',\n",
       " 'tmp-census-zarr/v1/homo_sapiens/1c739a3e-c3f5-49d5-98e0-73975e751201.zarr',\n",
       " 'tmp-census-zarr/v1/homo_sapiens/1c9eb291-6d31-47e1-96b2-129b5e1ae64f.zarr',\n",
       " 'tmp-census-zarr/v1/homo_sapiens/1c9f5c6b-73da-4d17-95de-df080ffe0df1.zarr',\n",
       " 'tmp-census-zarr/v1/homo_sapiens/1cf24082-59de-4029-ac81-6e398768af3a.zarr',\n",
       " 'tmp-census-zarr/v1/homo_sapiens/1e5bd3b8-6a0e-4959-8d69-cafed30fe814.zarr',\n",
       " 'tmp-census-zarr/v1/homo_sapiens/1f1c5c14-5949-4c81-b28e-b272e271b672.zarr',\n",
       " 'tmp-census-zarr/v1/homo_sapiens/20980d73-7c53-4039-b852-b76a01566d5a.zarr',\n",
       " 'tmp-census-zarr/v1/homo_sapiens/20d87640-4be8-487f-93d4-dce38378d00f.zarr',\n",
       " 'tmp-census-zarr/v1/homo_sapiens/214bf9eb-93db-48c8-8e3c-9bb22fa3bc63.zarr',\n",
       " 'tmp-census-zarr/v1/homo_sapiens/2185eb07-22e2-4209-b3c8-7111afc6aa90.zarr',\n",
       " 'tmp-census-zarr/v1/homo_sapiens/2190bd4d-3be0-4bf7-8ca8-8d6f71228936.zarr',\n",
       " 'tmp-census-zarr/v1/homo_sapiens/21d3e683-80a4-4d9b-bc89-ebb2df513dde.zarr',\n",
       " 'tmp-census-zarr/v1/homo_sapiens/22658f4f-9268-41ad-8828-cc53f4baa9fa.zarr',\n",
       " 'tmp-census-zarr/v1/homo_sapiens/232f6a5a-a04c-4758-a6e8-88ab2e3a6e69.zarr',\n",
       " 'tmp-census-zarr/v1/homo_sapiens/234c23d0-d6cd-4612-a40d-e5811727564b.zarr',\n",
       " 'tmp-census-zarr/v1/homo_sapiens/236baeda-5fdd-41bf-8e32-bae21ac7d435.zarr',\n",
       " 'tmp-census-zarr/v1/homo_sapiens/24066994-8183-488d-b037-ef6bb524af39.zarr',\n",
       " 'tmp-census-zarr/v1/homo_sapiens/2423ce2c-3149-4cca-a2ff-cf682ea29b5f.zarr',\n",
       " 'tmp-census-zarr/v1/homo_sapiens/242c6e7f-9016-4048-af70-d631f5eea188.zarr',\n",
       " 'tmp-census-zarr/v1/homo_sapiens/24584be9-d3d5-49c3-a042-99c18fe324db.zarr',\n",
       " 'tmp-census-zarr/v1/homo_sapiens/248cf7bf-508b-4c28-a2fd-cabe2ab956aa.zarr',\n",
       " 'tmp-census-zarr/v1/homo_sapiens/24ec2dc5-3573-4d66-a9e1-25b7dcf43e27.zarr',\n",
       " 'tmp-census-zarr/v1/homo_sapiens/251b1a7e-d050-4486-8d50-4c2619eb0f46.zarr',\n",
       " 'tmp-census-zarr/v1/homo_sapiens/2672b679-8048-4f5e-9786-f1b196ccfd08.zarr',\n",
       " 'tmp-census-zarr/v1/homo_sapiens/2727d83a-0af0-443a-bff8-58dc7028289a.zarr',\n",
       " 'tmp-census-zarr/v1/homo_sapiens/27d91086-cfe3-4e33-9282-bd1246e5ce8e.zarr',\n",
       " 'tmp-census-zarr/v1/homo_sapiens/2856d06c-0ff9-4e01-bfc9-202b74d0b60f.zarr',\n",
       " 'tmp-census-zarr/v1/homo_sapiens/2872f4b0-b171-46e2-abc6-befcf6de6306.zarr',\n",
       " 'tmp-census-zarr/v1/homo_sapiens/290d50c7-7158-4198-acf5-6d4b624fd3dc.zarr',\n",
       " 'tmp-census-zarr/v1/homo_sapiens/2a156c92-c62f-4a51-b340-9df09caa589c.zarr',\n",
       " 'tmp-census-zarr/v1/homo_sapiens/2a498ace-872a-4935-984b-1afa70fd9886.zarr',\n",
       " 'tmp-census-zarr/v1/homo_sapiens/2a8ca8f3-5599-4cda-b973-3a2dfc3c1fe6.zarr',\n",
       " 'tmp-census-zarr/v1/homo_sapiens/2aa1c93c-4ef3-4e9a-98e7-0bd37933953c.zarr',\n",
       " 'tmp-census-zarr/v1/homo_sapiens/2adb1f8a-a6b1-4909-8ee8-484814e2d4bf.zarr',\n",
       " 'tmp-census-zarr/v1/homo_sapiens/2ba40233-8576-4dec-a5f1-2adfa115e2dc.zarr',\n",
       " 'tmp-census-zarr/v1/homo_sapiens/2bdd3a2c-2ff4-4314-adf3-8a06b797a33a.zarr',\n",
       " 'tmp-census-zarr/v1/homo_sapiens/2c820d53-cbd7-4e0a-be7a-a0ad1989a98f.zarr',\n",
       " 'tmp-census-zarr/v1/homo_sapiens/2d31c0ca-0233-41ce-bd1a-05aa8404b073.zarr',\n",
       " 'tmp-census-zarr/v1/homo_sapiens/2d85960a-2ba8-4f54-9aec-537fae839f5d.zarr',\n",
       " 'tmp-census-zarr/v1/homo_sapiens/2e5a9b5d-d31b-4e9f-a179-d5d70ba459fb.zarr',\n",
       " 'tmp-census-zarr/v1/homo_sapiens/2ecc72f8-085f-4e86-8692-771f316c54f6.zarr',\n",
       " 'tmp-census-zarr/v1/homo_sapiens/2f05ab20-a092-4bab-9276-3e0eb24e3fee.zarr',\n",
       " 'tmp-census-zarr/v1/homo_sapiens/2f132ec9-24b5-422f-9be0-ccef03b4fe28.zarr',\n",
       " 'tmp-census-zarr/v1/homo_sapiens/2f6a20f1-173d-4b8d-860b-c47ffea120fa.zarr',\n",
       " 'tmp-census-zarr/v1/homo_sapiens/2f7230e7-4706-4924-b571-473fc1e52c30.zarr',\n",
       " 'tmp-census-zarr/v1/homo_sapiens/2fc9c59f-3cfd-48d9-9b23-e369ea31bff3.zarr',\n",
       " 'tmp-census-zarr/v1/homo_sapiens/30cd5311-6c09-46c9-94f1-71fe4b91813c.zarr',\n",
       " 'tmp-census-zarr/v1/homo_sapiens/31f04740-c712-4c4b-a3f8-55c0506b3034.zarr',\n",
       " 'tmp-census-zarr/v1/homo_sapiens/3294d050-6eeb-4a00-b24c-71aacc9b777f.zarr',\n",
       " 'tmp-census-zarr/v1/homo_sapiens/32b9bdce-2481-4c85-ba1b-6ad5fcea844c.zarr',\n",
       " 'tmp-census-zarr/v1/homo_sapiens/33911db3-f461-464b-8083-a397ab616a09.zarr',\n",
       " 'tmp-census-zarr/v1/homo_sapiens/343ff97c-85df-494b-8400-beb937618611.zarr',\n",
       " 'tmp-census-zarr/v1/homo_sapiens/34deb33b-a50e-4993-a38b-1c0e5079c1c2.zarr',\n",
       " 'tmp-census-zarr/v1/homo_sapiens/35090826-f636-40c1-a3ef-4466beeab9f8.zarr',\n",
       " 'tmp-census-zarr/v1/homo_sapiens/359f7af4-87d4-4117-9d6c-ca4cfa1f3f0b.zarr',\n",
       " 'tmp-census-zarr/v1/homo_sapiens/35c8a04c-8639-4d15-8228-765d8d93fc96.zarr',\n",
       " 'tmp-census-zarr/v1/homo_sapiens/364348b4-bc34-4fe1-a851-60d99e36cafa.zarr',\n",
       " 'tmp-census-zarr/v1/homo_sapiens/367b55f4-d543-49aa-90e8-4765fcb8c687.zarr',\n",
       " 'tmp-census-zarr/v1/homo_sapiens/36c867a7-be10-4e69-9b39-5de12b0af6da.zarr',\n",
       " 'tmp-census-zarr/v1/homo_sapiens/37b21763-7f0f-41ae-9001-60bad6e2841d.zarr',\n",
       " 'tmp-census-zarr/v1/homo_sapiens/381aa407-317a-40ef-8048-7ce0eacc4266.zarr',\n",
       " 'tmp-census-zarr/v1/homo_sapiens/389bfbb9-8ef1-4582-8c41-410131c3d0eb.zarr',\n",
       " 'tmp-census-zarr/v1/homo_sapiens/3966ba97-beb8-4d0b-9954-d3775cd2cd61.zarr',\n",
       " 'tmp-census-zarr/v1/homo_sapiens/396a9124-fb20-4822-bf9c-e93fdf7c999a.zarr',\n",
       " 'tmp-census-zarr/v1/homo_sapiens/39ed7d98-676d-4b8d-9d0a-0f3b60914ead.zarr',\n",
       " 'tmp-census-zarr/v1/homo_sapiens/3a1df9df-425e-451f-9d69-1ba7985296d9.zarr',\n",
       " 'tmp-census-zarr/v1/homo_sapiens/3affa268-8a74-460a-ac9b-a984c0832469.zarr',\n",
       " 'tmp-census-zarr/v1/homo_sapiens/3b6ed41e-10a1-47dd-b995-8cde7d041fd6.zarr',\n",
       " 'tmp-census-zarr/v1/homo_sapiens/3b8b5de4-3aa1-4ac6-8890-8d03c8219981.zarr',\n",
       " 'tmp-census-zarr/v1/homo_sapiens/3c361813-5d5e-4868-bfe5-e7591e7b5381.zarr',\n",
       " 'tmp-census-zarr/v1/homo_sapiens/3c75a463-6a87-4132-83a8-c3002624394d.zarr',\n",
       " 'tmp-census-zarr/v1/homo_sapiens/3d044b52-140a-4528-bf0d-a2dbef9e1f40.zarr',\n",
       " 'tmp-census-zarr/v1/homo_sapiens/3d0d6923-a2c4-476f-a53e-3b7bfa010d90.zarr',\n",
       " 'tmp-census-zarr/v1/homo_sapiens/3dc61ca1-ce40-46b6-8337-f27260fd9a03.zarr',\n",
       " 'tmp-census-zarr/v1/homo_sapiens/3de0ad6d-4378-4f62-b37b-ec0b75a50d94.zarr',\n",
       " 'tmp-census-zarr/v1/homo_sapiens/3e4e2c8e-cd17-4ece-9141-1e7f4ce8da1f.zarr',\n",
       " 'tmp-census-zarr/v1/homo_sapiens/3e87b1fa-472a-401c-8fa8-f31c10437d5f.zarr',\n",
       " 'tmp-census-zarr/v1/homo_sapiens/3f31f8ce-bbf6-4df8-8203-aa240ed03026.zarr',\n",
       " 'tmp-census-zarr/v1/homo_sapiens/3f32121d-126b-4e8d-9f69-d86502d2a1b1.zarr',\n",
       " 'tmp-census-zarr/v1/homo_sapiens/3f56901c-dd4a-47d6-b60b-7b0c0111cfb2.zarr',\n",
       " 'tmp-census-zarr/v1/homo_sapiens/4023a2bc-6325-47db-bfdf-9639e91042c2.zarr',\n",
       " 'tmp-census-zarr/v1/homo_sapiens/40318d39-3d8f-49f4-8455-a2e1365c5c5b.zarr',\n",
       " 'tmp-census-zarr/v1/homo_sapiens/40569510-2282-461b-84df-6218ef208e0e.zarr',\n",
       " 'tmp-census-zarr/v1/homo_sapiens/40e79234-65e8-45e9-b555-5c663154a108.zarr',\n",
       " 'tmp-census-zarr/v1/homo_sapiens/421e5f54-5de7-425f-b399-34ead0651ce1.zarr',\n",
       " 'tmp-census-zarr/v1/homo_sapiens/4269074c-f2c1-4d88-b2c3-0946f59d5449.zarr',\n",
       " 'tmp-census-zarr/v1/homo_sapiens/42b6a476-c51d-4f8b-b68b-44941b3a11bf.zarr',\n",
       " 'tmp-census-zarr/v1/homo_sapiens/43560d7c-acd6-4ede-830d-c9ffc6cd0862.zarr',\n",
       " 'tmp-census-zarr/v1/homo_sapiens/43b7e156-65b3-4a7b-8c7a-08528e4b21d0.zarr',\n",
       " 'tmp-census-zarr/v1/homo_sapiens/44882825-0da1-4547-b721-2c6105d4a9d1.zarr',\n",
       " 'tmp-census-zarr/v1/homo_sapiens/44c83972-e5d2-4858-ac58-2df9f4bf564b.zarr',\n",
       " 'tmp-census-zarr/v1/homo_sapiens/456e8b9b-f872-488b-871d-94534090a865.zarr',\n",
       " 'tmp-census-zarr/v1/homo_sapiens/4593c820-512d-4805-a10f-c0b864a7cc8c.zarr',\n",
       " 'tmp-census-zarr/v1/homo_sapiens/459dc9de-9ab8-4e4d-ac44-182595b1c18b.zarr',\n",
       " 'tmp-census-zarr/v1/homo_sapiens/46ff9dc2-3d87-4b36-91aa-ffa8aa13c52e.zarr',\n",
       " 'tmp-census-zarr/v1/homo_sapiens/470565f2-5afc-456a-b617-18e4496c04fd.zarr',\n",
       " 'tmp-census-zarr/v1/homo_sapiens/471647b3-04fe-4c76-8372-3264feb950e8.zarr',\n",
       " 'tmp-census-zarr/v1/homo_sapiens/4724c395-0c46-46d2-81f7-60fd271fb488.zarr',\n",
       " 'tmp-census-zarr/v1/homo_sapiens/48101fa2-1a63-4514-b892-53ea1d3a8657.zarr',\n",
       " 'tmp-census-zarr/v1/homo_sapiens/482954b2-0456-4901-b379-b62f99c0ab2d.zarr',\n",
       " 'tmp-census-zarr/v1/homo_sapiens/486486d4-9462-43e5-9249-eb43fa5a49a6.zarr',\n",
       " 'tmp-census-zarr/v1/homo_sapiens/489318a0-24c3-4f5c-b105-f084ed0ea026.zarr',\n",
       " 'tmp-census-zarr/v1/homo_sapiens/489eaa11-c119-4a5f-b44b-81e33c80c0ef.zarr',\n",
       " 'tmp-census-zarr/v1/homo_sapiens/492d9f77-c4c8-485d-92d7-7686fe6c8482.zarr',\n",
       " 'tmp-census-zarr/v1/homo_sapiens/4976b234-9028-4b4b-8a2f-8ac59d636219.zarr',\n",
       " 'tmp-census-zarr/v1/homo_sapiens/4993d61c-1d04-4630-9c61-8d9431f39adc.zarr',\n",
       " 'tmp-census-zarr/v1/homo_sapiens/4b6af54a-4a21-46e0-bc8d-673c0561a836.zarr',\n",
       " 'tmp-census-zarr/v1/homo_sapiens/4c4cd77c-8fee-4836-9145-16562a8782fe.zarr',\n",
       " 'tmp-census-zarr/v1/homo_sapiens/4c6f9f26-5470-455b-8933-c408232fbf56.zarr',\n",
       " 'tmp-census-zarr/v1/homo_sapiens/4cdd25a4-f4fa-4c13-b8a9-80cf28511d46.zarr',\n",
       " 'tmp-census-zarr/v1/homo_sapiens/4ce8d8ec-b94c-4b79-afcb-b094336d8a78.zarr',\n",
       " 'tmp-census-zarr/v1/homo_sapiens/4d2e0563-cf4a-48bd-aa7f-efc26025b53a.zarr',\n",
       " 'tmp-census-zarr/v1/homo_sapiens/4d43082e-59cd-43ac-b77d-54d55519c881.zarr',\n",
       " 'tmp-census-zarr/v1/homo_sapiens/4dd00779-7f73-4f50-89bb-e2d3c6b71b18.zarr',\n",
       " 'tmp-census-zarr/v1/homo_sapiens/4dd1cd23-fc4d-4fd1-9709-602540f3ca6f.zarr',\n",
       " 'tmp-census-zarr/v1/homo_sapiens/4e38f019-f8e8-44ae-ad32-ba500de6f64c.zarr',\n",
       " 'tmp-census-zarr/v1/homo_sapiens/4e74d843-8d7a-497a-918a-f079ef141b6d.zarr',\n",
       " 'tmp-census-zarr/v1/homo_sapiens/4ebcbeeb-2208-4d30-acb2-8142a5201814.zarr',\n",
       " 'tmp-census-zarr/v1/homo_sapiens/4ed927e9-c099-49af-b8ce-a2652d069333.zarr',\n",
       " 'tmp-census-zarr/v1/homo_sapiens/4f1555bc-4664-46c3-a606-78d34dd10d92.zarr',\n",
       " 'tmp-census-zarr/v1/homo_sapiens/4fb330ab-2d74-4649-b58f-7ffef457efdf.zarr',\n",
       " 'tmp-census-zarr/v1/homo_sapiens/5097d77d-08fa-4105-a18f-4072d61522a4.zarr',\n",
       " 'tmp-census-zarr/v1/homo_sapiens/50dc91a1-36b6-472a-b884-7307b6961ab1.zarr',\n",
       " 'tmp-census-zarr/v1/homo_sapiens/50eb1e23-b8d4-4f76-a184-44e5541fa05a.zarr',\n",
       " 'tmp-census-zarr/v1/homo_sapiens/518d9049-2a76-44f8-8abc-1e2b59ab5ba1.zarr',\n",
       " 'tmp-census-zarr/v1/homo_sapiens/51f476f7-b24d-42f3-8871-7dab3fa35e96.zarr',\n",
       " 'tmp-census-zarr/v1/homo_sapiens/524d4513-8afd-4120-9b7b-fe31ae10c29b.zarr',\n",
       " 'tmp-census-zarr/v1/homo_sapiens/524e045e-e74c-4e00-9884-d5c3bef3d862.zarr',\n",
       " 'tmp-census-zarr/v1/homo_sapiens/529bb209-9d7b-44da-bfa4-f6e4745c46c2.zarr',\n",
       " 'tmp-census-zarr/v1/homo_sapiens/52ea546e-9229-40ef-b048-a2e694dd73e8.zarr',\n",
       " 'tmp-census-zarr/v1/homo_sapiens/52f18bc3-52d9-487b-bf8f-f0b7aa684b09.zarr',\n",
       " 'tmp-census-zarr/v1/homo_sapiens/531c9543-9093-45ed-93ac-ebc5815bfb8a.zarr',\n",
       " 'tmp-census-zarr/v1/homo_sapiens/5346f9c6-755e-4336-94cc-38706ec00c2f.zarr',\n",
       " 'tmp-census-zarr/v1/homo_sapiens/535e9336-2d8d-43c3-944d-bcbebe20df8a.zarr',\n",
       " 'tmp-census-zarr/v1/homo_sapiens/53bc5729-6202-4351-bc99-1f36139e9dc4.zarr',\n",
       " 'tmp-census-zarr/v1/homo_sapiens/53d208b0-2cfd-4366-9866-c3c6114081bc.zarr',\n",
       " 'tmp-census-zarr/v1/homo_sapiens/5500c673-1610-40a0-86d9-64d987ae50e6.zarr',\n",
       " 'tmp-census-zarr/v1/homo_sapiens/55cf0ea3-9d2b-4294-871e-bb4b49a79fc7.zarr',\n",
       " 'tmp-census-zarr/v1/homo_sapiens/56c33a38-2732-4e53-a9c1-1bc61eda9a99.zarr',\n",
       " 'tmp-census-zarr/v1/homo_sapiens/572f3f3e-d3e4-4d13-8e2b-88215e508481.zarr',\n",
       " 'tmp-census-zarr/v1/homo_sapiens/574e9f9e-f8b4-41ef-bf19-89a9964fd9c7.zarr',\n",
       " 'tmp-census-zarr/v1/homo_sapiens/576f193c-75d0-4a11-bd25-8676587e6dc2.zarr',\n",
       " 'tmp-census-zarr/v1/homo_sapiens/5829c7ba-697f-418e-8b98-d605b192dc48.zarr',\n",
       " 'tmp-census-zarr/v1/homo_sapiens/58679288-9ecc-4647-9781-12a3a8f8c6fd.zarr',\n",
       " 'tmp-census-zarr/v1/homo_sapiens/58c43cc2-e00e-43c4-94eb-8501369264e1.zarr',\n",
       " 'tmp-census-zarr/v1/homo_sapiens/595c9010-99ec-462d-b6a1-2b2fe5407871.zarr',\n",
       " 'tmp-census-zarr/v1/homo_sapiens/59923449-e303-43e6-9e63-03ef92f5ebd1.zarr',\n",
       " 'tmp-census-zarr/v1/homo_sapiens/599504e5-d4ad-45bd-9128-823faf0fb9c9.zarr',\n",
       " 'tmp-census-zarr/v1/homo_sapiens/59b69042-47c2-47fd-ad03-d21beb99818f.zarr',\n",
       " 'tmp-census-zarr/v1/homo_sapiens/5a11f879-d1ef-458a-910c-9b0bdfca5ebf.zarr',\n",
       " 'tmp-census-zarr/v1/homo_sapiens/5a73f63f-18a2-49b5-b431-2c469c41a41b.zarr',\n",
       " 'tmp-census-zarr/v1/homo_sapiens/5ae6ab72-1927-4d5b-9826-86be65791293.zarr',\n",
       " 'tmp-census-zarr/v1/homo_sapiens/5af90777-6760-4003-9dba-8f945fec6fdf.zarr',\n",
       " 'tmp-census-zarr/v1/homo_sapiens/5ba85070-a41c-4184-9c18-cf34c3fd0f62.zarr',\n",
       " 'tmp-census-zarr/v1/homo_sapiens/5bc23cb2-8cfc-4960-bab1-c3027fbeefc4.zarr',\n",
       " 'tmp-census-zarr/v1/homo_sapiens/5bc42b88-bb76-4954-927b-8bb7369adc64.zarr',\n",
       " 'tmp-census-zarr/v1/homo_sapiens/5bdc423a-59e6-457d-aa01-debd2c9c564f.zarr',\n",
       " 'tmp-census-zarr/v1/homo_sapiens/5cdbb2ea-c622-466d-9ead-7884ad8cb99f.zarr',\n",
       " 'tmp-census-zarr/v1/homo_sapiens/5ce42b38-d867-487f-9b40-e8bb00b21d0b.zarr',\n",
       " 'tmp-census-zarr/v1/homo_sapiens/5d3fc988-765d-48ba-bfb5-151ef2988cac.zarr',\n",
       " 'tmp-census-zarr/v1/homo_sapiens/5e5ab909-f73f-4b57-98a0-6d2c5662f6a4.zarr',\n",
       " 'tmp-census-zarr/v1/homo_sapiens/5e5e7a2f-8f1c-42ac-90dc-b4f80f38e84c.zarr',\n",
       " 'tmp-census-zarr/v1/homo_sapiens/5e717147-0f75-4de1-8bd2-6fda01b8d75f.zarr',\n",
       " 'tmp-census-zarr/v1/homo_sapiens/605b89b1-c474-4180-8c0b-88afb5920991.zarr']"
      ]
     },
     "execution_count": 3,
     "metadata": {},
     "output_type": "execute_result"
    }
   ],
   "source": [
    "s3.ls(\"s3://tmp-census-zarr/v1/homo_sapiens\")"
   ]
  },
  {
   "cell_type": "code",
   "execution_count": 4,
   "metadata": {},
   "outputs": [],
   "source": [
    "TEST_ANNDATA_URI = \"s3://tmp-census-zarr/v1/homo_sapiens/0041b9c3-6a49-4bf7-8514-9bc7190067a7.zarr\""
   ]
  },
  {
   "cell_type": "code",
   "execution_count": 5,
   "metadata": {},
   "outputs": [],
   "source": [
    "from vitessce import (\n",
    "    VitessceWidget,\n",
    "    VitessceConfig,\n",
    "    Component as cm,\n",
    "    CoordinationType as ct,\n",
    "    AnnDataWrapper,\n",
    ")"
   ]
  },
  {
   "cell_type": "code",
   "execution_count": 6,
   "metadata": {},
   "outputs": [],
   "source": [
    "from anndata.experimental import read_elem"
   ]
  },
  {
   "cell_type": "code",
   "execution_count": 7,
   "metadata": {},
   "outputs": [],
   "source": [
    "z = zarr.open(TEST_ANNDATA_URI)"
   ]
  },
  {
   "cell_type": "code",
   "execution_count": 8,
   "metadata": {},
   "outputs": [
    {
     "data": {
      "text/plain": [
       "AnnData object with n_obs × n_vars = 9424 × 60530\n",
       "    obs: 'soma_joinid', 'dataset_id', 'assay', 'assay_ontology_term_id', 'cell_type', 'cell_type_ontology_term_id', 'development_stage', 'development_stage_ontology_term_id', 'disease', 'disease_ontology_term_id', 'donor_id', 'is_primary_data', 'observation_joinid', 'self_reported_ethnicity', 'self_reported_ethnicity_ontology_term_id', 'sex', 'sex_ontology_term_id', 'suspension_type', 'tissue', 'tissue_ontology_term_id', 'tissue_type', 'tissue_general', 'tissue_general_ontology_term_id', 'raw_sum', 'nnz', 'raw_mean_nnz', 'raw_variance_nnz', 'n_measured_vars'\n",
       "    var: 'soma_joinid', 'feature_id', 'feature_name', 'feature_length', 'nnz', 'n_measured_obs'"
      ]
     },
     "execution_count": 8,
     "metadata": {},
     "output_type": "execute_result"
    }
   ],
   "source": [
    "read_elem(z[\"/\"])"
   ]
  },
  {
   "cell_type": "code",
   "execution_count": 9,
   "metadata": {},
   "outputs": [],
   "source": [
    "vc = VitessceConfig(schema_version=\"1.0.15\")\n",
    "dataset = vc.add_dataset(name='Brain').add_object(AnnDataWrapper(\n",
    "        adata_store=z,\n",
    "        # obs_embedding_paths=[\"obsm/X_umap\"],\n",
    "        # obs_embedding_names=[\"UMAP\"],\n",
    "        obs_set_paths=[\"obs/cell_type\"],\n",
    "        obs_set_names=[\"cell_type\"],\n",
    "        obs_feature_matrix_path=\"X\",\n",
    "        # feature_filter_path=\"var/top_highly_variable\"\n",
    "))\n",
    "# scatterplot = vc.add_view(cm.SCATTERPLOT, dataset=dataset, mapping=\"UMAP\")\n",
    "cell_sets = vc.add_view(cm.OBS_SETS, dataset=dataset)\n",
    "genes = vc.add_view(cm.FEATURE_LIST, dataset=dataset)\n",
    "heatmap = vc.add_view(cm.HEATMAP, dataset=dataset)\n",
    "layout = vc.layout(((cell_sets / genes)) / heatmap)"
   ]
  },
  {
   "cell_type": "code",
   "execution_count": 11,
   "metadata": {},
   "outputs": [
    {
     "data": {
      "application/vnd.jupyter.widget-view+json": {
       "model_id": "09c9f3913f44411e9f088d24ee8ff56f",
       "version_major": 2,
       "version_minor": 1
      },
      "text/plain": [
       "VitessceWidget(config={'version': '1.0.15', 'name': '', 'description': '', 'datasets': [{'uid': 'A', 'name': '…"
      ]
     },
     "execution_count": 11,
     "metadata": {},
     "output_type": "execute_result"
    }
   ],
   "source": [
    "layout.widget()"
   ]
  },
  {
   "cell_type": "code",
   "execution_count": 15,
   "metadata": {},
   "outputs": [
    {
     "data": {
      "text/plain": [
       "'http://vitessce.io/#?theme=light&url=data:,%7B%22version%22%3A+%221.0.15%22%2C+%22name%22%3A+%22%22%2C+%22description%22%3A+%22%22%2C+%22datasets%22%3A+%5B%7B%22uid%22%3A+%22A%22%2C+%22name%22%3A+%22Brain%22%2C+%22files%22%3A+%5B%7B%22fileType%22%3A+%22anndata.zarr%22%2C+%22url%22%3A+%22http%3A%2F%2Flocalhost%3A8000%2FA%2F0%2F84fc3ccb-d199-4d8d-a29a-1da0ec6a9fab.adata.zarr%22%2C+%22options%22%3A+%7B%22obsSets%22%3A+%5B%7B%22name%22%3A+%22cell_type%22%2C+%22path%22%3A+%22obs%2Fcell_type%22%7D%5D%2C+%22obsFeatureMatrix%22%3A+%7B%22path%22%3A+%22X%22%7D%7D%7D%5D%7D%5D%2C+%22coordinationSpace%22%3A+%7B%22dataset%22%3A+%7B%22A%22%3A+%22A%22%7D%7D%2C+%22layout%22%3A+%5B%7B%22component%22%3A+%22obsSets%22%2C+%22coordinationScopes%22%3A+%7B%22dataset%22%3A+%22A%22%7D%2C+%22x%22%3A+0%2C+%22y%22%3A+0.0%2C+%22w%22%3A+12%2C+%22h%22%3A+3.0%7D%2C+%7B%22component%22%3A+%22featureList%22%2C+%22coordinationScopes%22%3A+%7B%22dataset%22%3A+%22A%22%7D%2C+%22x%22%3A+0%2C+%22y%22%3A+3.0%2C+%22w%22%3A+12%2C+%22h%22%3A+3.0%7D%2C+%7B%22component%22%3A+%22heatmap%22%2C+%22coordinationScopes%22%3A+%7B%22dataset%22%3A+%22A%22%7D%2C+%22x%22%3A+0%2C+%22y%22%3A+6.0%2C+%22w%22%3A+12%2C+%22h%22%3A+6.0%7D%5D%2C+%22initStrategy%22%3A+%22auto%22%7D'"
      ]
     },
     "execution_count": 15,
     "metadata": {},
     "output_type": "execute_result"
    }
   ],
   "source": [
    "vc.web_app()"
   ]
  },
  {
   "cell_type": "code",
   "execution_count": null,
   "metadata": {},
   "outputs": [],
   "source": []
  }
 ],
 "metadata": {
  "kernelspec": {
   "display_name": "cellxgene-census-dev-new",
   "language": "python",
   "name": "python3"
  },
  "language_info": {
   "codemirror_mode": {
    "name": "ipython",
    "version": 3
   },
   "file_extension": ".py",
   "mimetype": "text/x-python",
   "name": "python",
   "nbconvert_exporter": "python",
   "pygments_lexer": "ipython3",
   "version": "3.11.9"
  }
 },
 "nbformat": 4,
 "nbformat_minor": 2
}
